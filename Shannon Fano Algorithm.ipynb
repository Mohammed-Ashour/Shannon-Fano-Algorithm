{
 "cells": [
  {
   "cell_type": "markdown",
   "metadata": {},
   "source": [
    "## Shannon Fano Algorithm\n",
    "Wikipedia : https://en.wikipedia.org/wiki/Shannon%E2%80%93Fano_coding"
   ]
  },
  {
   "cell_type": "code",
   "execution_count": 1,
   "metadata": {
    "collapsed": true
   },
   "outputs": [],
   "source": [
    "import math\n",
    "import matplotlib.pyplot as plt\n",
    "import numpy as np\n",
    "from collections import Counter\n",
    "import operator"
   ]
  },
  {
   "cell_type": "code",
   "execution_count": 2,
   "metadata": {
    "collapsed": false
   },
   "outputs": [],
   "source": [
    "fig_size = (10,7)\n",
    "\n",
    "plt.rcParams[\"figure.figsize\"] = fig_size"
   ]
  },
  {
   "cell_type": "code",
   "execution_count": 3,
   "metadata": {
    "collapsed": false
   },
   "outputs": [],
   "source": [
    "\"\"\"\n",
    "@author: m_ashour\n",
    "\"\"\"\n",
    "import math\n",
    "import matplotlib.pyplot as plt\n",
    "import numpy as np\n",
    "class ShanonFanno(object):\n",
    "\n",
    "    def __init__(self):\n",
    "        self.sum_logs_with_pis = 0\n",
    "        self.size_after_compress = 0\n",
    "        self.sorted_s = \"\"\n",
    "        self.char_dict = dict()\n",
    "\n",
    "    def devide_chars(self, x, itr, code):\n",
    "        '''makes the tree recursively'''\n",
    "        if len(x) == 2 : return [[x[0], itr + 1, code + \"0\"], [x[1], itr + 1, code + \"1\"]]\n",
    "        if len(x) == 1 : return [[x, itr, code]]\n",
    "        index = self.break_the_node(x)\n",
    "        return [self.devide_chars(x[:index+1], itr + 1, code + \"0\"), self.devide_chars(x[index+1:], itr + 1, code + \"1\")]\n",
    "\n",
    "    def make_count(self):\n",
    "        '''returns a dict of chars with counts + string with sorted chars by appearence'''\n",
    "        # making list of tuples to sort it according to the count\n",
    "#         char_ls = [(self.sentence.count(i), i) for i in set(self.sentence)]\n",
    "#         char_ls.sort(reverse=True)\n",
    "#         #making a dict of key and value\n",
    "#         self.char_dict = dict([(i[1], i[0]) for i in char_ls])\n",
    "        self.char_dict = dict(Counter(self.sentence))\n",
    "        char_ls = sorted(self.char_dict.items(), key=operator.itemgetter(1),reverse=True)\n",
    "        sorted_s = \"\"\n",
    "        for i in char_ls :\n",
    "            sorted_s += i[0]\n",
    "        return self.char_dict, sorted_s\n",
    "\n",
    "    def flatten_the_tree(self, tree):\n",
    "            '''flatten the tree and calculate the pi, log(pi), sum(log(pi) * pi)'''\n",
    "            leaf = False\n",
    "            flat_list = []\n",
    "            if len(tree) == 1 : tree = tree[0]\n",
    "            while(leaf == False):\n",
    "\n",
    "\n",
    "                if type(tree[-1]) is not list:\n",
    "                    #print(tree)\n",
    "                    #just in case data missed up\n",
    "                    if len(tree) != 3 : break\n",
    "                    #reaching the leaf and computing pi\n",
    "                    leaf = True\n",
    "                    pi = self.sentence.count(tree[0])/self.total\n",
    "                    log_pi = math.log(1/pi, 2)\n",
    "                    x = tree.copy()\n",
    "                    x.append(pi)\n",
    "                    self.sum_logs_with_pis += pi * log_pi\n",
    "                    return [x]\n",
    "                else:\n",
    "                    # going recursively in the right and the left\n",
    "\n",
    "                    flat_right = []\n",
    "                    flat_left = []\n",
    "                    flat_right.extend(self.flatten_the_tree(tree[0]))\n",
    "                    flat_left.extend(self.flatten_the_tree(tree[1]))\n",
    "                    flat_list.extend(flat_right)\n",
    "                    flat_list.extend(flat_left)\n",
    "                    return flat_list\n",
    "\n",
    "\n",
    "\n",
    "\n",
    "    def break_the_node(self, node):\n",
    "        total = 0\n",
    "        for i in node :\n",
    "            total += self.char_dict[i]\n",
    "        length = len(node)\n",
    "        count = 0\n",
    "        last_char_index = 0\n",
    "        for i in range(length//2):\n",
    "            count += self.char_dict[self.sorted_s[i]]\n",
    "            if (count - (total/2) >= 0):\n",
    "                last_char_index = i +1\n",
    "                break\n",
    "        return last_char_index\n",
    "\n",
    "    def plot_bar(self):\n",
    "        x_labels = list(map(lambda x : x[0], self.final_flat))\n",
    "        y = list(map(lambda x : x[1], self.final_flat))\n",
    "        plt.bar(range(len(y)), y, align='center', alpha=0.5)\n",
    "        plt.xticks(range(len(y)), x_labels)\n",
    "        plt.ylabel('recurrence')\n",
    "        plt.title('Chars in the sentence')\n",
    "        plt.show()\n",
    "        \n",
    "    def plot_pie(self):\n",
    "        x_labels = list(map(lambda x : x[0], self.final_flat))\n",
    "        y = list(map(lambda x : x[1], self.final_flat))\n",
    "        plt.pie(y, labels=x_labels, autopct='%1.1f%%',  startangle=90)\n",
    "        plt.show()\n",
    "\n",
    "    def display_compressed(self):\n",
    "        np_final_flat = np.array(sh.final_flat)\n",
    "        keys = np_final_flat[:,0]\n",
    "        values = np_final_flat[:,2]\n",
    "        chars_encoded_dict = dict(zip(keys, values))\n",
    "        print(\"the encoded version\")\n",
    "        for ch in self.sentence:\n",
    "            print(chars_encoded_dict[ch], end=\" \")\n",
    "        print()\n",
    "        print(\"the oiginal one\")\n",
    "        print(self.sentence)\n",
    "        \n",
    "                                  \n",
    "    def do_the_work(self,s):\n",
    "        '''here the work '''\n",
    "        #make dict of words with repeats count, and sorted string\n",
    "        self.sentence = s\n",
    "        self.total = len(s)\n",
    "        self.char_dict, self.sorted_s = self.make_count()\n",
    "        # generate the nodes by spliting the original one\n",
    "        last_char_index = self.break_the_node(self.sorted_s)\n",
    "        left = self.sorted_s[:last_char_index]\n",
    "        right = self.sorted_s[last_char_index:]\n",
    "        #making the tree\n",
    "        left_tree = self.devide_chars(left, 1, \"0\")\n",
    "        right_tree = self.devide_chars(right, 1, \"1\")\n",
    "\n",
    "        #computing the pi and flatten the tree to make it easy to compute\n",
    "        left_flat = self.flatten_the_tree(left_tree)\n",
    "        right_flat = self.flatten_the_tree(right_tree)\n",
    "        self.final_flat = []\n",
    "        self.final_flat.extend(left_flat)\n",
    "        self.final_flat.extend(right_flat)\n",
    "        self.write_final_logs(self.final_flat)\n",
    "\n",
    "    def write_final_logs(self, final_flat):\n",
    "        '''here is the final logs'''\n",
    "        b1 = 0\n",
    "        for i in final_flat :\n",
    "                count = self.sentence.count(i[0])\n",
    "                b1 += count*i[1]\n",
    "                print(\"Symbol: {0} => [Pi: {1}], [Code: {2}], [Freq.: {3}], [No. of Bits: {4}]\".format(i[0],i[-1],i[2],count,i[1]*count))\n",
    "        b0 = len(self.sentence)*8\n",
    "        print(\"B0: {0}\".format(b0))\n",
    "        print(\"B1: {0}\".format(b1))\n",
    "        print(\"Compression Ratio: {0}\".format(b0/b1))\n",
    "        print(\"Ideal Entropy: {0}\".format(self.sum_logs_with_pis))\n",
    "        print(\"Algo Entropy: {0}\".format(b1/self.total))"
   ]
  },
  {
   "cell_type": "code",
   "execution_count": 4,
   "metadata": {
    "collapsed": false,
    "scrolled": true
   },
   "outputs": [
    {
     "name": "stdout",
     "output_type": "stream",
     "text": [
      "Symbol: E => [Pi: 0.23809523809523808], [Code: 0000], [Freq.: 5], [No. of Bits: 20]\n",
      "Symbol: T => [Pi: 0.14285714285714285], [Code: 0001], [Freq.: 3], [No. of Bits: 12]\n",
      "Symbol: S => [Pi: 0.09523809523809523], [Code: 001], [Freq.: 2], [No. of Bits: 6]\n",
      "Symbol:   => [Pi: 0.09523809523809523], [Code: 01], [Freq.: 2], [No. of Bits: 4]\n",
      "Symbol: A => [Pi: 0.09523809523809523], [Code: 100], [Freq.: 2], [No. of Bits: 6]\n",
      "Symbol: H => [Pi: 0.047619047619047616], [Code: 101], [Freq.: 1], [No. of Bits: 3]\n",
      "Symbol: F => [Pi: 0.047619047619047616], [Code: 1100], [Freq.: 1], [No. of Bits: 4]\n",
      "Symbol: I => [Pi: 0.047619047619047616], [Code: 1101], [Freq.: 1], [No. of Bits: 4]\n",
      "Symbol: N => [Pi: 0.047619047619047616], [Code: 11100], [Freq.: 1], [No. of Bits: 5]\n",
      "Symbol: U => [Pi: 0.047619047619047616], [Code: 11101], [Freq.: 1], [No. of Bits: 5]\n",
      "Symbol: L => [Pi: 0.047619047619047616], [Code: 11110], [Freq.: 1], [No. of Bits: 5]\n",
      "Symbol: R => [Pi: 0.047619047619047616], [Code: 11111], [Freq.: 1], [No. of Bits: 5]\n",
      "B0: 168\n",
      "B1: 79\n",
      "Compression Ratio: 2.1265822784810124\n",
      "Ideal Entropy: 3.327339900083508\n",
      "Algo Entropy: 3.761904761904762\n"
     ]
    }
   ],
   "source": [
    "s1 = \"Soon, you will be a graduated engineer. Work hard and prove yourself! Good luck!\"\n",
    "s2 = \"THE ESSENTIAL FEATURE\"\n",
    "sh = ShanonFanno()\n",
    "sh.do_the_work(s2)\n"
   ]
  },
  {
   "cell_type": "code",
   "execution_count": 5,
   "metadata": {
    "collapsed": false
   },
   "outputs": [
    {
     "name": "stdout",
     "output_type": "stream",
     "text": [
      "the encoded version\n",
      "0001 101 0000 01 0000 001 001 0000 11100 0001 1101 100 11110 01 1100 0000 100 0001 11101 11111 0000 \n",
      "the oiginal one\n",
      "THE ESSENTIAL FEATURE\n"
     ]
    }
   ],
   "source": [
    "# import numpy as np\n",
    "# np.array(sh.final_flat)[:,0]\n",
    "# dict(zip(keys, values)\n",
    "sh.display_compressed()"
   ]
  },
  {
   "cell_type": "code",
   "execution_count": 6,
   "metadata": {
    "collapsed": false
   },
   "outputs": [
    {
     "data": {
      "image/png": "[encoded data removed]",
      "text/plain": [
       "<matplotlib.figure.Figure at 0x1dfd929db38>"
      ]
     },
     "metadata": {},
     "output_type": "display_data"
    }
   ],
   "source": [
    "sh.plot_bar()"
   ]
  },
  {
   "cell_type": "code",
   "execution_count": 7,
   "metadata": {
    "collapsed": false
   },
   "outputs": [
    {
     "data": {
      "image/png": "[encoded data removed]",
      "text/plain": [
       "<matplotlib.figure.Figure at 0x1dfd9335908>"
      ]
     },
     "metadata": {},
     "output_type": "display_data"
    }
   ],
   "source": [
    "sh.plot_pie()"
   ]
  },
  {
   "cell_type": "code",
   "execution_count": null,
   "metadata": {
    "collapsed": true
   },
   "outputs": [],
   "source": []
  }
 ],
 "metadata": {
  "kernelspec": {
   "display_name": "Python [conda root]",
   "language": "python",
   "name": "conda-root-py"
  },
  "language_info": {
   "codemirror_mode": {
    "name": "ipython",
    "version": 3
   },
   "file_extension": ".py",
   "mimetype": "text/x-python",
   "name": "python",
   "nbconvert_exporter": "python",
   "pygments_lexer": "ipython3",
   "version": "3.5.2"
  }
 },
 "nbformat": 4,
 "nbformat_minor": 2
}
